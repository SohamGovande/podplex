{
  "cells": [
    {
      "cell_type": "markdown",
      "metadata": {
        "id": "QUKFL7KeKpma"
      },
      "source": [
        "# Part 2.2: (Fully-Sharded) Data Parallelism\n",
        "\n",
        "**Filled notebook:**\n",
        "[![View filled on Github](https://img.shields.io/static/v1.svg?logo=github&label=Repo&message=View%20On%20Github&color=lightgrey)](https://github.com/phlippe/uvadlc_notebooks/blob/master/docs/tutorial_notebooks/scaling/JAX/data_parallel_fsdp.ipynb)\n",
        "[![Open filled In Collab](https://colab.research.google.com/assets/colab-badge.svg)](https://colab.research.google.com/github/phlippe/uvadlc_notebooks/blob/master/docs/tutorial_notebooks/scaling/JAX/data_parallel_fsdp.ipynb)   \n",
        "\n",
        "**Author:** [Phillip Lippe](https://phlippe.github.io/)"
      ]
    },
    {
      "cell_type": "markdown",
      "metadata": {
        "id": "lQ0BG6-RKpmd"
      },
      "source": [
        "In the following series of tutorials, we will explore different parallelism strategies for training large deep learning models. Our focus will be on three common parallelism strategies: data parallelism, pipeline parallelism, and tensor parallelism. Data parallelism, as the name suggests, focuses on parallelizing the data processing of the model. If we are given a very large batch, we divide the batch into smaller batches and distribute them across multiple devices. Each device will process a different batch of data in parallel. Afterwards, we will aggregate the results from each device to update the model. Data parallelism is the most common parallelism strategy used in deep learning and well supported in most frameworks. Thus, we will start with data parallelism in this tutorial. In later tutorials, we will explore pipeline and tensor parallelism which focus on parallelizing the computation of the model itself. A short overview of the three parallelism strategies is shown in the figure below.\n",
        "\n",
        "<center width=\"100%\" style=\"padding: 10px\"><img src=\"https://github.com/phlippe/uvadlc_notebooks/blob/master/docs/tutorial_notebooks/scaling/figures/parallelism_strategies_overview.svg?raw=1\" width=\"1000px\"></center>\n",
        "\n",
        "We will focus on implementing data parallelism in JAX, but a lot of the concepts can be easily transferred to other frameworks like PyTorch or TensorFlow. With distributed computing introduced in [Part 2.1](https://uvadlc-notebooks.readthedocs.io/en/latest/tutorial_notebooks/scaling/JAX/data_parallel_intro.html), we can now implement a simple data parallelism strategy to train a small neural network on multiple devices. We then discuss fully-sharded data parallelism (FSDP), which distributes the model parameters across multiple devices and reduces memory consumption (also known as part of the [ZeRO optimizer](https://arxiv.org/abs/1910.02054))."
      ]
    },
    {
      "cell_type": "markdown",
      "metadata": {
        "id": "e_4SbJoVKpmd"
      },
      "source": [
        "## Prerequisites\n",
        "\n",
        "First, let's start with setting up the basic environment and utility functions we have seen from previous notebooks. We download the python scripts of the previous notebooks below. This is only needed when running on Google Colab, and local execution will skip this step automatically."
      ]
    },
    {
      "cell_type": "code",
      "execution_count": null,
      "metadata": {
        "id": "foLItdtSKpmd"
      },
      "outputs": [],
      "source": [
        "import os\n",
        "import urllib.request\n",
        "from urllib.error import HTTPError\n",
        "\n",
        "# Github URL where python scripts are stored.\n",
        "base_url = \"https://raw.githubusercontent.com/phlippe/uvadlc_notebooks/master/docs/tutorial_notebooks/scaling/JAX/\"\n",
        "# Files to download.\n",
        "python_files = [\"single_gpu.py\", \"utils.py\"]\n",
        "# For each file, check whether it already exists. If not, try downloading it.\n",
        "for file_name in python_files:\n",
        "    if not os.path.isfile(file_name):\n",
        "        file_url = base_url + file_name\n",
        "        print(f\"Downloading {file_url}...\")\n",
        "        try:\n",
        "            urllib.request.urlretrieve(file_url, file_name)\n",
        "        except HTTPError as e:\n",
        "            print(\n",
        "                \"Something went wrong. Please try to download the file directly from the GitHub repository, or contact the author with the full output including the following error:\\n\",\n",
        "                e,\n",
        "            )"
      ]
    },
    {
      "cell_type": "markdown",
      "metadata": {
        "id": "TPPCfyv6Kpme"
      },
      "source": [
        "As in the previous part, we set up the notebook such that it can be run on a CPU with 8 simulated devices and no expensive hardware is required. If you are running on Google Colab, you do not need to select a GPU runtime, as we will simulate multiple devices on a single CPU. If you are running on your local machine and have multiple GPUs available, you can comment out the line below and use `set_XLA_flags_gpu` instead to set the XLA flags we have seen in the previous parts."
      ]
    },
    {
      "cell_type": "code",
      "execution_count": null,
      "metadata": {
        "id": "lTL6_VYPKpme"
      },
      "outputs": [],
      "source": [
        "from utils import simulate_CPU_devices\n",
        "\n",
        "simulate_CPU_devices()"
      ]
    },
    {
      "cell_type": "markdown",
      "metadata": {
        "id": "-TdybMX9Kpme"
      },
      "source": [
        "With the environment variables set, we can import our required libraries and start with the implementation."
      ]
    },
    {
      "cell_type": "code",
      "execution_count": null,
      "metadata": {
        "id": "-xGW785qKpmf"
      },
      "outputs": [],
      "source": [
        "import functools\n",
        "from pprint import pprint\n",
        "from typing import Any, Callable, Dict, Sequence, Tuple\n",
        "\n",
        "import flax.linen as nn\n",
        "import jax\n",
        "import jax.numpy as jnp\n",
        "import numpy as np\n",
        "import optax\n",
        "from absl import logging\n",
        "from jax import lax\n",
        "from jax.experimental.shard_map import shard_map\n",
        "from jax.sharding import Mesh\n",
        "from jax.sharding import PartitionSpec as P\n",
        "from ml_collections import ConfigDict\n",
        "\n",
        "PyTree = Any\n",
        "Metrics = Dict[str, Tuple[jax.Array, ...]]"
      ]
    },
    {
      "cell_type": "markdown",
      "metadata": {
        "id": "bK6U5rTLKpmf"
      },
      "source": [
        "We again use some small utilities from the previous notebook ([Part 1.1](https://uvadlc-notebooks.readthedocs.io/en/latest/tutorial_notebooks/scaling/JAX/single_gpu_techniques.html)) to reduce the code duplication in this notebook."
      ]
    },
    {
      "cell_type": "code",
      "execution_count": null,
      "metadata": {
        "id": "2GwLyRfnKpmf"
      },
      "outputs": [],
      "source": [
        "from single_gpu import Batch, TrainState, accumulate_gradients, print_metrics"
      ]
    },
    {
      "cell_type": "markdown",
      "metadata": {
        "id": "iVtmvuwRKpmf"
      },
      "source": [
        "Additionally, in Part 2.1, we have already implemented the `fold_rng_over_axis`, which allows us to create mesh-axis specific RNGs. In this notebook, we will use this utility in our data parallelism implementation."
      ]
    },
    {
      "cell_type": "code",
      "execution_count": null,
      "metadata": {
        "id": "v9PePlg0Kpmf"
      },
      "outputs": [],
      "source": [
        "def fold_rng_over_axis(rng: jax.random.PRNGKey, axis_name: str) -> jax.random.PRNGKey:\n",
        "    \"\"\"Folds the random number generator over the given axis.\n",
        "\n",
        "    This is useful for generating a different random number for each device\n",
        "    across a certain axis (e.g. the model axis).\n",
        "\n",
        "    Args:\n",
        "        rng: The random number generator.\n",
        "        axis_name: The axis name to fold the random number generator over.\n",
        "\n",
        "    Returns:\n",
        "        A new random number generator, different for each device index along the axis.\n",
        "    \"\"\"\n",
        "    axis_index = jax.lax.axis_index(axis_name)\n",
        "    return jax.random.fold_in(rng, axis_index)"
      ]
    },
    {
      "cell_type": "markdown",
      "metadata": {
        "id": "8GdsclUwKpmf"
      },
      "source": [
        "## Data Parallelism\n",
        "\n",
        "In data parallelism, we aim to use our multiple devices to increase our batch size. Each device will hold the same model and parameters, and process a different batch of data in parallel. After processing the data and obtaining the gradients for each batch, we aggregate the gradients over the devices and update our model. The main advantage of data parallelism is that it is easy to implement and scales well with the number of devices, since the devices need to communicate only once per batch. However, the main disadvantage is that the model size is limited by the memory of a single device, which can be a bottleneck for very large models and we will discuss how to overcome this in the next section.\n",
        "\n",
        "For now, let's start with plain data parallelism. By using shard map, we can focus on writing single-device code and shard map will take care of the parallelization. Hence, we can simply write our model and training loop as if we would run it on a single device. We use our example, small classifier from the previous tutorial below:"
      ]
    },
    {
      "cell_type": "code",
      "execution_count": null,
      "metadata": {
        "id": "JDKp1jg2Kpmf"
      },
      "outputs": [],
      "source": [
        "class DPClassifier(nn.Module):\n",
        "    config: ConfigDict\n",
        "\n",
        "    @nn.compact\n",
        "    def __call__(self, x: jax.Array, train: bool) -> jax.Array:\n",
        "        x = nn.Dense(\n",
        "            features=self.config.hidden_size,\n",
        "            dtype=self.config.dtype,\n",
        "            name=\"input_dense\",\n",
        "        )(x)\n",
        "        x = nn.silu(x)\n",
        "        x = nn.Dropout(rate=self.config.dropout_rate, deterministic=not train)(x)\n",
        "        x = nn.Dense(\n",
        "            features=self.config.num_classes,\n",
        "            dtype=self.config.dtype,\n",
        "            name=\"output_dense\",\n",
        "        )(x)\n",
        "        x = x.astype(jnp.float32)\n",
        "        return x"
      ]
    },
    {
      "cell_type": "markdown",
      "metadata": {
        "id": "_47m58s6Kpmg"
      },
      "source": [
        "We again specify all hyperparameters in a config. Feel free to adjust the hyperparameters to your needs. As only addition to the previous tutorial, we add the `data_axis_name` attribute, which will denote the mesh axis over which we want to perform data parallelism. We will use this attribute in the following sections to coordinate communications over the data axis."
      ]
    },
    {
      "cell_type": "code",
      "execution_count": null,
      "metadata": {
        "id": "4UDkDdLzKpmg"
      },
      "outputs": [],
      "source": [
        "data_config = ConfigDict(\n",
        "    dict(\n",
        "        batch_size=128,\n",
        "        num_classes=10,\n",
        "        input_size=784,\n",
        "    )\n",
        ")\n",
        "model_config = ConfigDict(\n",
        "    dict(\n",
        "        hidden_size=512,\n",
        "        dropout_rate=0.1,\n",
        "        dtype=jnp.bfloat16,\n",
        "        num_classes=data_config.num_classes,\n",
        "        data_axis_name=\"data\",\n",
        "    )\n",
        ")\n",
        "optimizer_config = ConfigDict(\n",
        "    dict(\n",
        "        learning_rate=1e-3,\n",
        "        num_minibatches=4,\n",
        "    )\n",
        ")\n",
        "config = ConfigDict(\n",
        "    dict(\n",
        "        model=model_config,\n",
        "        optimizer=optimizer_config,\n",
        "        data=data_config,\n",
        "        data_axis_name=model_config.data_axis_name,\n",
        "        seed=42,\n",
        "    )\n",
        ")"
      ]
    },
    {
      "cell_type": "markdown",
      "metadata": {
        "id": "SBK1LRHRKpmg"
      },
      "source": [
        "### Initialization\n",
        "\n",
        "We start by initializing the model and optimizer. Also here, we can continue to write the initialization as if we would run it on a single device. We create the objects below:"
      ]
    },
    {
      "cell_type": "code",
      "execution_count": null,
      "metadata": {
        "id": "vNFxlaS_Kpmg"
      },
      "outputs": [],
      "source": [
        "model_dp = DPClassifier(config=config.model)\n",
        "optimizer = optax.adamw(\n",
        "    learning_rate=config.optimizer.learning_rate,\n",
        ")"
      ]
    },
    {
      "cell_type": "markdown",
      "metadata": {
        "id": "_Yv8sZ7WKpmg"
      },
      "source": [
        "We also create an example batch of data to test the model. Since shard map will take care of the parallelization and sharding of the inputs, we can simply create the batch as if we would run it on a single device:"
      ]
    },
    {
      "cell_type": "code",
      "execution_count": null,
      "metadata": {
        "id": "wPGQO4jlKpmg",
        "outputId": "83c2fc18-36e7-461c-cbe4-98cb48174e49"
      },
      "outputs": [
        {
          "name": "stderr",
          "output_type": "stream",
          "text": [
            "2024-03-07 10:46:28.299510: E external/xla/xla/stream_executor/cuda/cuda_driver.cc:273] failed call to cuInit: CUDA_ERROR_NO_DEVICE: no CUDA-capable device is detected\n",
            "CUDA backend failed to initialize: FAILED_PRECONDITION: No visible GPU devices. (Set TF_CPP_MIN_LOG_LEVEL=0 and rerun for more info.)\n"
          ]
        }
      ],
      "source": [
        "rng = jax.random.PRNGKey(config.seed)\n",
        "model_init_rng, data_inputs_rng, data_labels_rng = jax.random.split(rng, 3)\n",
        "batch = Batch(\n",
        "    inputs=jax.random.normal(data_inputs_rng, (config.data.batch_size, config.data.input_size)),\n",
        "    labels=jax.random.randint(\n",
        "        data_labels_rng, (config.data.batch_size,), 0, config.data.num_classes\n",
        "    ),\n",
        ")"
      ]
    },
    {
      "cell_type": "markdown",
      "metadata": {
        "id": "0EIzA3hQKpmh"
      },
      "source": [
        "Each device will process a batch size of `config.data.batch_size // num_devices`. In a full training run, you may want to prefetch the array to the devices in the correct sharding to avoid the initial transfer time. This can be done via `flax.jax_utils.prefetch_to_device`, which supports async placement of arrays on devices, and is especially useful for large arrays in a dataset. However, for the purpose of this tutorial, we will keep the array on the first device and let shard map take care of the transfer.\n",
        "\n",
        "We can now write an initialization function. Again, this is the same function as we have seen for single-device training:"
      ]
    },
    {
      "cell_type": "code",
      "execution_count": null,
      "metadata": {
        "id": "Yps945lrKpmh"
      },
      "outputs": [],
      "source": [
        "def init_dp(rng: jax.random.PRNGKey, x: jax.Array, model: nn.Module) -> TrainState:\n",
        "    init_rng, rng = jax.random.split(rng)\n",
        "    variables = model.init({\"params\": init_rng}, x, train=False)\n",
        "    params = variables.pop(\"params\")\n",
        "    state = TrainState.create(\n",
        "        apply_fn=model.apply,\n",
        "        params=params,\n",
        "        tx=optimizer,\n",
        "        rng=rng,\n",
        "    )\n",
        "    return state"
      ]
    },
    {
      "cell_type": "markdown",
      "metadata": {
        "id": "KWheniCNKpmh"
      },
      "source": [
        "Before we can execute the initialization, we need to define the mesh and wrap the initialization function with `shard_map`. We define the mesh below:"
      ]
    },
    {
      "cell_type": "code",
      "execution_count": null,
      "metadata": {
        "id": "Ujn_1B61Kpmh"
      },
      "outputs": [],
      "source": [
        "device_array = np.array(jax.devices())\n",
        "mesh = Mesh(device_array, (config.data_axis_name,))"
      ]
    },
    {
      "cell_type": "markdown",
      "metadata": {
        "id": "nqnFWlHxKpmh"
      },
      "source": [
        "We create a single-dimensional mesh, with all devices along the data axis. Hence, we will perform data parallelism over all devices.\n",
        "\n",
        "For wrapping the initialization function with `shard_map`, we need to specify the mesh and the sharding specifications for the input and output. For generating the parameters, we input an RNG which we want to replicate across all devices. This ensures that all devices have the same parameters. The input batch on the other hand will be sharded over the data axis. As an output, we expect a train state which is identical on all devices. We wrap the initialization function with `shard_map` below:"
      ]
    },
    {
      "cell_type": "code",
      "execution_count": null,
      "metadata": {
        "id": "ZfDiaY-qKpmh"
      },
      "outputs": [],
      "source": [
        "init_dp_fn = jax.jit(\n",
        "    shard_map(\n",
        "        functools.partial(init_dp, model=model_dp),\n",
        "        mesh,\n",
        "        in_specs=(P(), P(config.data_axis_name)),\n",
        "        out_specs=P(),\n",
        "        check_rep=False,\n",
        "    ),\n",
        ")"
      ]
    },
    {
      "cell_type": "markdown",
      "metadata": {
        "id": "Vx0jCMu1Kpmi"
      },
      "source": [
        "The jitting is optional, but may be necessary in models where we make use of `jax.lax.axis_index` or other operations that are only supported within a jitted function of shard map. We can now execute the initialization function and check the resulting train state:"
      ]
    },
    {
      "cell_type": "code",
      "execution_count": null,
      "metadata": {
        "id": "DpnXfZzBKpmi",
        "outputId": "9de41aeb-5906-4067-a11f-d92ca8f7e6b4"
      },
      "outputs": [
        {
          "name": "stdout",
          "output_type": "stream",
          "text": [
            "DP Parameters\n",
            "{'input_dense': {'bias': ((512,), GSPMDSharding({replicated})),\n",
            "                 'kernel': ((784, 512), GSPMDSharding({replicated}))},\n",
            " 'output_dense': {'bias': ((10,), GSPMDSharding({replicated})),\n",
            "                  'kernel': ((512, 10), GSPMDSharding({replicated}))}}\n"
          ]
        }
      ],
      "source": [
        "state_dp = init_dp_fn(model_init_rng, batch.inputs)\n",
        "print(\"DP Parameters\")\n",
        "pprint(jax.tree_map(lambda x: (x.shape, x.sharding), state_dp.params))"
      ]
    },
    {
      "cell_type": "markdown",
      "metadata": {
        "id": "OcZ0OmAsKpmi"
      },
      "source": [
        "We find all parameters have the expected shape and are replicated across all devices. We can now move on to the training loop."
      ]
    },
    {
      "cell_type": "markdown",
      "metadata": {
        "id": "ulUdXbDhKpmi"
      },
      "source": [
        "### Train Step\n",
        "\n",
        "We can write the train step almost as if we would run it on a single device. The only difference is the dropout RNG. As mentioned before, we want each device to use a different dropout mask. However, the RNG in the train state is replicated across all devices. We can use our function `fold_rng_over_axis` to split the RNG key across devices on the data axis. This device-specific key can then be passed to the dropout layers. We implement the train step below:"
      ]
    },
    {
      "cell_type": "code",
      "execution_count": null,
      "metadata": {
        "id": "uU5To34yKpmi"
      },
      "outputs": [],
      "source": [
        "def loss_fn(\n",
        "    params: PyTree, apply_fn: Any, batch: Batch, rng: jax.Array\n",
        ") -> Tuple[jax.Array, Dict[str, Any]]:\n",
        "    # Since dropout masks vary across the batch dimension, we want each device to generate a\n",
        "    # different mask. We can achieve this by folding the rng over the data axis, so that each\n",
        "    # device gets a different rng and thus mask.\n",
        "    dropout_rng = fold_rng_over_axis(rng, config.data_axis_name)\n",
        "    # Remaining computation is the same as before for single device.\n",
        "    logits = apply_fn({\"params\": params}, batch.inputs, train=True, rngs={\"dropout\": dropout_rng})\n",
        "    loss = optax.softmax_cross_entropy_with_integer_labels(logits, batch.labels)\n",
        "    correct_pred = jnp.equal(jnp.argmax(logits, axis=-1), batch.labels)\n",
        "    batch_size = batch.inputs.shape[0]\n",
        "    step_metrics = {\"loss\": (loss.sum(), batch_size), \"accuracy\": (correct_pred.sum(), batch_size)}\n",
        "    loss = loss.mean()\n",
        "    return loss, step_metrics"
      ]
    },
    {
      "cell_type": "markdown",
      "metadata": {
        "id": "pcBHzKJuKpmi"
      },
      "source": [
        "In the previous tutorial, we explored the option of accumulating the gradients of multiple batches before updating the model, to reduce memory footprint. While in data parallelism, we usually can already run a much larger batch due to parallelization across multiple devices, we can still use this option to further increase the batch size. Since the forward step and backward pass do not require any communication between devices, we can use the same function `accumulate_gradients` as for the single-device training and scan over smaller splits of the batch per device. We can then accumulate the gradients over subbatches on each device, and only communicate the final aggregated gradients to update the model."
      ]
    },
    {
      "cell_type": "markdown",
      "metadata": {
        "id": "HCCeRrEAKpmj"
      },
      "source": [
        "In the train step, we need to communicate the gradients over the data axis. After obtaining the gradients and metrics per device, we want to average the gradients over all devices and update the model. We can use `jax.lax.pmean` to average the gradients over the data axis, and then apply the optimizer step to update the model on each device in parallel. Similarly, we use `jax.lax.psum` to sum the statistics in the metrics over the data axis. Alternatively, we could sync the metrics only before we want to log them, to reduce the communication overhead. However, since the metrics are usually just a few scalars compared to millions or billions of parameters, the communication overhead is usually negligible. The returned state and metrics will be the same on all devices, and we can use them to continue the training loop."
      ]
    },
    {
      "cell_type": "code",
      "execution_count": null,
      "metadata": {
        "id": "ChAp4_tKKpmj"
      },
      "outputs": [],
      "source": [
        "def train_step_dp(\n",
        "    state: TrainState,\n",
        "    metrics: Metrics | None,\n",
        "    batch: Batch,\n",
        ") -> Tuple[TrainState, Metrics]:\n",
        "    rng, step_rng = jax.random.split(state.rng)\n",
        "    grads, step_metrics = accumulate_gradients(\n",
        "        state,\n",
        "        batch,\n",
        "        step_rng,\n",
        "        config.optimizer.num_minibatches,\n",
        "        loss_fn=loss_fn,\n",
        "    )\n",
        "    # Update parameters. We need to sync the gradients across devices before updating.\n",
        "    with jax.named_scope(\"sync_gradients\"):\n",
        "        grads = jax.tree_map(lambda g: jax.lax.pmean(g, axis_name=config.data_axis_name), grads)\n",
        "    new_state = state.apply_gradients(grads=grads, rng=rng)\n",
        "    # Sum metrics across replicas. Alternatively, we could keep the metrics separate\n",
        "    # and only synchronize them before logging. For simplicity, we sum them here.\n",
        "    with jax.named_scope(\"sync_metrics\"):\n",
        "        step_metrics = jax.tree_map(\n",
        "            lambda x: jax.lax.psum(x, axis_name=config.data_axis_name), step_metrics\n",
        "        )\n",
        "    if metrics is None:\n",
        "        metrics = step_metrics\n",
        "    else:\n",
        "        metrics = jax.tree_map(jnp.add, metrics, step_metrics)\n",
        "    return new_state, metrics"
      ]
    },
    {
      "cell_type": "markdown",
      "metadata": {
        "id": "hsoTmFXvKpmj"
      },
      "source": [
        "We can now wrap the train step with `shard_map` and jit it. We need to specify the mesh and the sharding specifications for the input and output. The input batch will be sharded over the data axis. All other arrays, i.e. the input/output train state and metrics, will be replicated across all devices. Further, we can specify the state and metrics as donatable to avoid unnecessary memory overhead. We wrap the train step with `shard_map` below:"
      ]
    },
    {
      "cell_type": "code",
      "execution_count": null,
      "metadata": {
        "id": "az5sfaybKpmj"
      },
      "outputs": [],
      "source": [
        "train_step_dp_fn = jax.jit(\n",
        "    shard_map(\n",
        "        train_step_dp,\n",
        "        mesh,\n",
        "        in_specs=(P(), P(), P(config.data_axis_name)),\n",
        "        out_specs=(P(), P()),\n",
        "        check_rep=False,\n",
        "    ),\n",
        "    donate_argnames=(\"state\", \"metrics\"),\n",
        ")"
      ]
    },
    {
      "cell_type": "markdown",
      "metadata": {
        "id": "HUOJgBqIKpmk"
      },
      "source": [
        "Before running the training step, we want to find the shape and PyTree structure of the metrics. We use `jax.eval_shape` or `flax.jax_utils.partial_eval_by_shape` to find the shape of the metrics without running the full computation. Otherwise, we would need to compile the training step twice, once for the input metrics being None, and once for the input metrics being the correct shape. We avoid this overhead by the shape evaluation below:"
      ]
    },
    {
      "cell_type": "code",
      "execution_count": null,
      "metadata": {
        "id": "rn2JzSRcKpmk"
      },
      "outputs": [],
      "source": [
        "_, metric_shapes = jax.eval_shape(\n",
        "    train_step_dp_fn,\n",
        "    state_dp,\n",
        "    None,\n",
        "    batch,\n",
        ")\n",
        "metrics_dp = jax.tree_map(lambda x: jnp.zeros(x.shape, dtype=x.dtype), metric_shapes)"
      ]
    },
    {
      "cell_type": "markdown",
      "metadata": {
        "id": "HwN3AlL_Kpmk"
      },
      "source": [
        "Finally, we can run the training loop for a few steps and check the resulting metrics:"
      ]
    },
    {
      "cell_type": "code",
      "execution_count": null,
      "metadata": {
        "id": "ligyeTj3Kpmk",
        "outputId": "282c148f-e991-45af-f701-484527bf2bc6"
      },
      "outputs": [
        {
          "name": "stdout",
          "output_type": "stream",
          "text": [
            "accuracy: 1.000000\n",
            "loss: 0.003343\n"
          ]
        }
      ],
      "source": [
        "for _ in range(15):\n",
        "    state_dp, metrics_dp = train_step_dp_fn(state_dp, metrics_dp, batch)\n",
        "final_metrics_dp = jax.tree_map(lambda x: jnp.zeros(x.shape, dtype=x.dtype), metric_shapes)\n",
        "state_dp, final_metrics_dp = train_step_dp_fn(state_dp, final_metrics_dp, batch)\n",
        "print_metrics(final_metrics_dp)"
      ]
    },
    {
      "cell_type": "markdown",
      "metadata": {
        "id": "uc60HAr2Kpml"
      },
      "source": [
        "As we can see, the model is training as expected and is able to overfit on the single batch of data. Let's once more check how the parameters are distributed across the devices:"
      ]
    },
    {
      "cell_type": "code",
      "execution_count": null,
      "metadata": {
        "id": "cWL1LNv5Kpml",
        "outputId": "d8d99778-72b1-4980-e897-42e01570be8a"
      },
      "outputs": [
        {
          "name": "stdout",
          "output_type": "stream",
          "text": [
            "DP Parameters\n",
            "{'input_dense': {'bias': ((512,), GSPMDSharding({replicated})),\n",
            "                 'kernel': ((784, 512), GSPMDSharding({replicated}))},\n",
            " 'output_dense': {'bias': ((10,), GSPMDSharding({replicated})),\n",
            "                  'kernel': ((512, 10), GSPMDSharding({replicated}))}}\n",
            "Metrics\n",
            "{'accuracy': (((), GSPMDSharding({replicated})),\n",
            "              ((), GSPMDSharding({replicated}))),\n",
            " 'loss': (((), GSPMDSharding({replicated})), ((), GSPMDSharding({replicated})))}\n"
          ]
        }
      ],
      "source": [
        "print(\"DP Parameters\")\n",
        "pprint(jax.tree_map(lambda x: (x.shape, x.sharding), state_dp.params))\n",
        "print(\"Metrics\")\n",
        "pprint(jax.tree_map(lambda x: (x.shape, x.sharding), final_metrics_dp))"
      ]
    },
    {
      "cell_type": "markdown",
      "metadata": {
        "id": "KGoCBOlFKpml"
      },
      "source": [
        "Both parameters and metrics are still replicated over all devices, suggesting our implementation works as expected. We can now move on to the next section."
      ]
    },
    {
      "cell_type": "markdown",
      "metadata": {
        "id": "T-UktqbEKpmm"
      },
      "source": [
        "## Parameter Sharding\n",
        "\n",
        "So far, we have implemented data parallelism where the model parameters are replicated across all devices. This is a simple and effective way to parallelize the training of a model. However, as the model size continues to grow, the memory consumption of the model parameters can become a bottleneck. For instance, if we have a model with 1 billion parameters and 8 devices, each device would need to hold the full 1 billion parameters. With each parameter being in float32 and using an optimizer like Adam with two additional float32 values per parameter (first- and second-order momentum), the model itself already takes up 12GB of the device memory. This can be a problem for devices with limited memory, like taking already half the memory of an A5000 GPU with 24GB. To overcome this, we can shard the model parameters across multiple devices. This is known as fully-sharded data parallelism (FSDP) and is part of the [ZeRO optimizer](https://arxiv.org/abs/1910.02054). In FSDP, each device holds a different part of the model parameters and their optimizer state. Before executing a layer or module, we communicate the respective parameters across devices such that we can process the data in parallel. In the backward pass, we communicate the gradients back to the respective devices and update the model. This way, we can significantly reduce the memory consumption of the model parameters and scale to very large models. The ZeRO optimizer further extends this concept by allowing for different stages of sharding, such as only sharding the optimizer state ($P_{os}$), sharding the gradients as well ($P_{os+g}$), or sharding the model parameters as well ($P_{os+g+p}$, FSDP). The figure below shows the different stages of ZeRO (figure credit: [Rajbhandari et al., 2019](https://arxiv.org/abs/1910.02054)). Here, $\\Psi$ represents the number of parameters in the model, and $K$ the number of bytes in the optimizer state per parameter. In the mixed precision training setup shown, we use bfloat16 for the model parameters (2 bytes) and the gradients (2 bytes), and float32 for the Adam optimizer state (8 bytes) with a float32 copy of the parameters (4 bytes). Thus, our memory is 16 bytes per parameter. By using different stages of ZeRO, we can reduce the memory consumption of the model parameters and optimizer state by up to $1/N_d$ where $N_d$ is the number of devices.\n",
        "\n",
        "<center width=\"100%\" style=\"padding: 10px\"><img src=\"https://github.com/phlippe/uvadlc_notebooks/blob/master/docs/tutorial_notebooks/scaling/figures/data_zero_optimizer.svg?raw=1\" width=\"800px\"></center>\n",
        "\n",
        "We will focus on the basic concept of FSDP in this tutorial, but the other ZeRO stages can also be implemented in similar ways. We will start by sharding the model parameters across multiple devices and then implement the forward and backward pass accordingly. We will also discuss the communication of the optimizer state and gradients in the backward pass.\n"
      ]
    },
    {
      "cell_type": "markdown",
      "metadata": {
        "id": "jZZGKBGLKpmm"
      },
      "source": [
        "### Sharding setup\n",
        "\n",
        "We start by sharding the model parameters across multiple devices. The strategy we follow is as follows:\n",
        "- During initialization, we create the full parameters on each device.\n",
        "- We then use `jax.lax.axis_index` to split the parameters across devices and only keep a shard of the parameters on each device.\n",
        "- We annotate the parameters with the sharding specification, so we know how to put the parameters back together in the forward pass.\n",
        "\n",
        "For annotating the sharding specification of parameters, Flax provides a wrapper called `nn.Partitioned` ([docs](https://flax.readthedocs.io/en/latest/api_reference/flax.linen/_autosummary/flax.linen.Partitioned.html)). This wrapper takes as input a parameter and a list of axis names, similar to the `PartitionSpec` we have seen before. We can then use the parameter as before, but can use the axis name specification to determine the communication needed between devices, the shard map specification, and more. Further, whenever we apply transformations on modules with partitioned parameters, e.g. vmap or scan, the partitioned parameters will be transformed accordingly and the annotated axis adjusted to the new shapes. From now on, we consider parameters to be either a `jax.Array` if fully replicated, or a `flax.linen.Partitioned` if sharded across devices. We create a small type annotation for this case below."
      ]
    },
    {
      "cell_type": "code",
      "execution_count": null,
      "metadata": {
        "id": "GZ3vcouhKpmm"
      },
      "outputs": [],
      "source": [
        "Parameter = jax.Array | nn.Partitioned"
      ]
    },
    {
      "cell_type": "markdown",
      "metadata": {
        "id": "_Dt-Ia0PKpmm"
      },
      "source": [
        "We now need to write a function that shards the parameters across devices for FSDP. We can take as input a PyTree of parameters and a mesh axis name, and determine for each parameter the sharding specification. To keep the global shape of a parameter untouched, we look for an axis which can be equally split across the number of devices present. If multiple are present, we select the largest possible axis, to keep the sharding consistent when varying the number of devices. We then use this axis as the sharding axis, and wrap the parameter in a `nn.Partitioned` with the axis name and position. For some parameters that are very small, sharding may not be beneficial since the communication time may outweigh the memory costs. For instance, we are likely interested in sharding large weight matrices while the bias and scaling parameter in a normalization layer have negligible memory costs. We can specify a minimum size for sharding, and only shard parameters that are larger than this size. We implement the function below:"
      ]
    },
    {
      "cell_type": "code",
      "execution_count": null,
      "metadata": {
        "id": "Bbw1RQQQKpmm"
      },
      "outputs": [],
      "source": [
        "@jax.named_scope(\"shard_params\")\n",
        "def shard_params(params: PyTree, axis_name: str, min_weight_size: int = 2**18) -> PyTree:\n",
        "    \"\"\"Shard parameters across the given mesh axis.\n",
        "\n",
        "    Args:\n",
        "        params: The parameters to shard.\n",
        "        axis_name: The axis to shard parameters across.\n",
        "        min_weight_size: The minimum size of a parameter to shard. Parameters with fewer values will not be sharded.\n",
        "\n",
        "    Returns:\n",
        "        PyTree of same structure as params, but with leaves sharded over new axis if possible.\n",
        "    \"\"\"\n",
        "    axis_idx = jax.lax.axis_index(axis_name)\n",
        "    axis_size = jax.lax.psum(1, axis_name)\n",
        "\n",
        "    def _split(x: Parameter) -> Parameter:\n",
        "        if isinstance(x, nn.Partitioned):\n",
        "            value, names = x.value, x.names\n",
        "        else:\n",
        "            value = x\n",
        "            names = (None,) * value.ndim\n",
        "        if axis_name in names:\n",
        "            logging.warning(\n",
        "                f\"Parameter {value.shape} with names {names} already sharded on axis {axis_name}.\"\n",
        "            )\n",
        "            return x\n",
        "        elif value.size <= min_weight_size:\n",
        "            logging.info(\n",
        "                f\"Parameter {value.shape} with names {names} too small to shard, size {value.size} < {min_weight_size}.\"\n",
        "            )\n",
        "            return x\n",
        "        else:\n",
        "            shape = value.shape\n",
        "            idx = np.argsort(shape)[::-1]  # Shard along largest possible axis.\n",
        "            for i in idx:\n",
        "                if shape[i] % axis_size == 0 and names[i] is None:\n",
        "                    split_size = shape[i] // axis_size\n",
        "                    p_sharded = nn.Partitioned(\n",
        "                        value=lax.dynamic_slice_in_dim(  # Shard to keep on present device.\n",
        "                            value, axis_idx * split_size, split_size, axis=i\n",
        "                        ),\n",
        "                        names=names[:i] + (axis_name,) + names[i + 1 :],\n",
        "                    )\n",
        "                    return p_sharded\n",
        "            logging.warning(\n",
        "                f\"Could not shard {value.shape} with names {names} on axis {axis_name}, no suitable axis found.\"\n",
        "            )\n",
        "            return x\n",
        "\n",
        "    return jax.tree_util.tree_map(\n",
        "        _split,\n",
        "        params,\n",
        "        is_leaf=lambda x: isinstance(\n",
        "            x, nn.Partitioned\n",
        "        ),  # Consider a nn.Partitioned object as a leaf.\n",
        "    )"
      ]
    },
    {
      "cell_type": "markdown",
      "metadata": {
        "id": "layMmkZSKpmm"
      },
      "source": [
        "In the split function, we check for each parameter wether it has been already sharded over the data axis. This case should usually not occur, since we cannot shard a parameter twice over the same mesh axis (otherwise information must get lost). However, it can occur if we shard a parameter over the data axis, and then want to shard it over another axis. Hence, we allow for `nn.Partitioned` objects with other axis names, and find a new axis to shard over. We then shard the parameter over the new axis and return the new `nn.Partitioned` object. Note that the logging statements are only evaluated during the first run of the function when jitted, and can give us a hint when something went wrong.\n",
        "\n",
        "With the parameters sharded, we now need to write a function to gather the parameters back to a single device. This is necessary for the forward pass, where we want to compute the output of the model on a single device. We can use `jax.lax.all_gather` to gather the parameters from all devices and concatenate them along the sharding axis. In the backward pass, we will use `jax.lax.psum_scatter` to scatter the gradients back to the respective devices. However, one subtle difference to a non-sharded parameter is that in our previous data parallelism training step, we averaged the gradients of different devices. The `jax.lax.psum_scatter` would instead sum the gradients over the devices. To keep the behavior consistent, we adjust the backward pass to average the gradients over the devices. We implement the adjusted gather operation below:"
      ]
    },
    {
      "cell_type": "code",
      "execution_count": null,
      "metadata": {
        "id": "mZpcbwoBKpmm"
      },
      "outputs": [],
      "source": [
        "def gather_array_with_mean_grads(x: jax.Array, axis: int, axis_name: str):\n",
        "    \"\"\"Gathering with averaging gradients across replicas.\"\"\"\n",
        "    axis_size = jax.lax.psum(1, axis_name)\n",
        "\n",
        "    # Define a custom gradient for the gather operation.\n",
        "    @jax.custom_gradient\n",
        "    def f(x):\n",
        "        def grad_fn(g):\n",
        "            # pmean_scatter\n",
        "            return (\n",
        "                jax.lax.psum_scatter(g, axis_name, scatter_dimension=axis, tiled=True) / axis_size\n",
        "            )\n",
        "\n",
        "        return jax.lax.all_gather(x, axis_name, axis=axis, tiled=True), grad_fn\n",
        "\n",
        "    return f(x)"
      ]
    },
    {
      "cell_type": "markdown",
      "metadata": {
        "id": "FQGaQBUVKpmn"
      },
      "source": [
        "We can now write a function that takes as input a PyTree of the sharded parameters and gathers them back to a single device. This will be our reverse operation of `shard_params` function. We implement the function below:"
      ]
    },
    {
      "cell_type": "code",
      "execution_count": null,
      "metadata": {
        "id": "XYpH6SB5Kpmn"
      },
      "outputs": [],
      "source": [
        "@jax.named_scope(\"gather_params\")\n",
        "def gather_params(params: PyTree, axis_name: str) -> PyTree:\n",
        "    \"\"\"Gather parameters from all replicas across the given axis.\n",
        "\n",
        "    Args:\n",
        "        params: The parameters to gather.\n",
        "        axis_name: The axis to gather parameters across.\n",
        "\n",
        "    Returns:\n",
        "        PyTree of same structure as params, but with leaves gathered if they were a nn.Partitioned object.\n",
        "    \"\"\"\n",
        "\n",
        "    def _gather(p: Parameter) -> Parameter:\n",
        "        if isinstance(p, nn.Partitioned) and axis_name in p.names:\n",
        "            param_shard = p.names\n",
        "            shard_axis = param_shard.index(axis_name)\n",
        "            value = gather_array_with_mean_grads(p.value, axis=shard_axis, axis_name=axis_name)\n",
        "            # If there are any other axes that are sharded, we need to keep the partitioned structure.\n",
        "            # Otherwise, we can return the value directly.\n",
        "            param_shard = param_shard[:shard_axis] + (None,) + param_shard[shard_axis + 1 :]\n",
        "            if any([name is not None for name in param_shard]):\n",
        "                return nn.Partitioned(value, param_shard)\n",
        "            else:\n",
        "                return value\n",
        "        else:\n",
        "            return p\n",
        "\n",
        "    return jax.tree_util.tree_map(_gather, params, is_leaf=lambda x: isinstance(x, nn.Partitioned))"
      ]
    },
    {
      "cell_type": "markdown",
      "metadata": {
        "id": "pceuUYzqKpmn"
      },
      "source": [
        "Whenever we call a module, we want to gather the parameters back to a single device, and then shard them again once the module is done computing (i.e. free the memory of the full parameters). For this, we wrap a module into a `nn.map_variables` transformation, which allows for transformations on the parameter before and after the module is called. We can use this to gather the parameters before the module is called, and shard them again after the module is done. We implement the function below:"
      ]
    },
    {
      "cell_type": "code",
      "execution_count": null,
      "metadata": {
        "id": "i7cUzGgfKpmn"
      },
      "outputs": [],
      "source": [
        "def shard_module_params(\n",
        "    target: nn.Module | Callable, axis_name: str, min_weight_size: int = 2**18\n",
        ") -> nn.Module | Callable:\n",
        "    \"\"\"Shard parameters of a module across replicas.\n",
        "\n",
        "    Args:\n",
        "        target: The module to shard.\n",
        "        axis_name: The axis name to shard parameters across.\n",
        "        min_weight_size: The minimum size of a parameter to shard. Parameters with fewer values will not be sharded.\n",
        "\n",
        "    Returns:\n",
        "        The module with sharded parameters.\n",
        "    \"\"\"\n",
        "    return nn.map_variables(\n",
        "        target,\n",
        "        trans_in_fn=functools.partial(gather_params, axis_name=axis_name),\n",
        "        trans_out_fn=functools.partial(\n",
        "            shard_params, axis_name=axis_name, min_weight_size=min_weight_size\n",
        "        ),\n",
        "        mapped_collections=\"params\",\n",
        "        mutable=True,\n",
        "    )"
      ]
    },
    {
      "cell_type": "markdown",
      "metadata": {
        "id": "21uV1AxVKpmn"
      },
      "source": [
        "Another aspect in the design of FSDP is how we deal with the gathered parameters during the training step. If we use the function as is, we would gather the parameters and we keep the full parameters as intermediate arrays on a single device until the backward step is completed. We may have situations where the full parameters do not fit on a single device. In that case, we can remat the gather operation, such that after the forward pass of a module, we free up the memory of the full parameters of the module, and only keep the sharded parameters. We can then gather the parameters again before the backward pass, and scatter the gradients back to the respective devices. This can be done by using the `remat` transformation directly on `gather_params`, or by rematting the whole forward pass with a policy to remat all `all_gather` operations: `@partial(jax.remat, policy=lambda op, *_, **__: str(op) != 'all_gather')` (see [official documentation](https://jax.readthedocs.io/en/latest/notebooks/autodiff_remat.html#custom-policies-for-what-s-saveable) for more details). The final option is to remat the whole module, which we have seen in the previous tutorial. In that case, it matters whether we shard the parameters of every individual module, or the global module, since in the individual case, we also remat the gather, while in the other case, we only remat the forward pass. All these options trade off memory and communication cost, and need to be chosen based on the hardware at hand. We will provide both options in our code, such that depending on the model size, the corresponding setup can be chosen.\n",
        "\n",
        "Let's now use the sharding function to shard our simple classifier below:"
      ]
    },
    {
      "cell_type": "code",
      "execution_count": null,
      "metadata": {
        "id": "bUS_QuXAKpmn"
      },
      "outputs": [],
      "source": [
        "class FSDPClassifier(nn.Module):\n",
        "    config: ConfigDict\n",
        "\n",
        "    @nn.compact\n",
        "    def __call__(self, x: jax.Array, train: bool) -> jax.Array:\n",
        "        sharded_dense = shard_module_params(\n",
        "            nn.Dense,\n",
        "            axis_name=self.config.data_axis_name,\n",
        "            min_weight_size=self.config.min_weight_size,\n",
        "        )\n",
        "        x = sharded_dense(\n",
        "            features=self.config.hidden_size,\n",
        "            dtype=self.config.dtype,\n",
        "            name=\"input_dense\",\n",
        "        )(x)\n",
        "        x = nn.silu(x)\n",
        "        x = nn.Dropout(rate=self.config.dropout_rate, deterministic=not train)(x)\n",
        "        x = sharded_dense(\n",
        "            features=self.config.num_classes,\n",
        "            dtype=self.config.dtype,\n",
        "            name=\"output_dense\",\n",
        "        )(x)\n",
        "        x = x.astype(jnp.float32)\n",
        "        return x"
      ]
    },
    {
      "cell_type": "markdown",
      "metadata": {
        "id": "_O9kTLSPKpmn"
      },
      "source": [
        "Note that we only shard the dense layers here, since all other layers (activation function, dropout) do not have any parameters."
      ]
    },
    {
      "cell_type": "markdown",
      "metadata": {
        "id": "Q5ERdwy4Kpmn"
      },
      "source": [
        "### Initialization\n",
        "\n",
        "We can now initialize the model. First, we set the `min_weight_size` at which we want to shard the parameters. The original value of $2^{18}$ is chosen based on parameters being greater than 1MB (assuming 4 bytes per parameter), inspired by the [Big Vision repository](https://github.com/google-research/big_vision/blob/main/big_vision/sharding.py#L58). However, for demonstration purposes, we set it much lower here such that some weights are sharded for our small example model."
      ]
    },
    {
      "cell_type": "code",
      "execution_count": null,
      "metadata": {
        "id": "Fg3e9CALKpmn"
      },
      "outputs": [],
      "source": [
        "config.model.min_weight_size = 2**4"
      ]
    },
    {
      "cell_type": "markdown",
      "metadata": {
        "id": "_IuK958ZKpmn"
      },
      "source": [
        "The model is then created as usual. If we want to shard the parameters of the whole model, we would use `model_fsdp = shard_module_params(FSDPClassifier, axis_name=config.data_axis_name, min_weight_size=config.model.min_weight_size)(config.model)` instead."
      ]
    },
    {
      "cell_type": "code",
      "execution_count": null,
      "metadata": {
        "id": "umiAAys5Kpmn"
      },
      "outputs": [],
      "source": [
        "model_fsdp = FSDPClassifier(config=config.model)"
      ]
    },
    {
      "cell_type": "markdown",
      "metadata": {
        "id": "wp6TY2bjKpmn"
      },
      "source": [
        "While we can reuse our initialization function, we need to adjust the shard map. This is because some parameters are now sharded across devices, and we need to specify the mesh and the sharding specifications for the input and output. The partitioning is determined within the model initialization, so we cannot manually specify it as before. Instead, we can first wrap the initialization function with `shard_map` and an unknown output specification (i.e. simply set to all replicated `P()` and `check_rep` to False), and evaluate the shapes which is independent of the output specification. Since the shapes are also determined for the partitioned parameters, we can then use the shapes to determine the sharding specification. An easy way of doing that is by using `nn.get_partition_spec` which returns the sharding specification of a PyTree with `nn.Partitioned` leafs. We can then use this specification to wrap the initialization function with `shard_map` and the correct output specification. We implement the function below:"
      ]
    },
    {
      "cell_type": "code",
      "execution_count": null,
      "metadata": {
        "id": "phu7vw98Kpmn"
      },
      "outputs": [],
      "source": [
        "init_fsdp_fn = shard_map(\n",
        "    functools.partial(init_dp, model=model_fsdp),\n",
        "    mesh,\n",
        "    in_specs=(P(), P(config.data_axis_name)),\n",
        "    out_specs=P(),\n",
        "    check_rep=False,\n",
        ")\n",
        "state_fsdp_shapes = jax.eval_shape(init_fsdp_fn, model_init_rng, batch.inputs)\n",
        "state_fsdp_specs = nn.get_partition_spec(state_fsdp_shapes)"
      ]
    },
    {
      "cell_type": "markdown",
      "metadata": {
        "id": "Yo4NUsv8Kpmo"
      },
      "source": [
        "We can check the specification before plugging it into the `shard_map` function. Since the output of the initialization function is a train state, `state_fsdp_specs` is a train state as well, but with each element being a partition spec instead. We can print out the specs below."
      ]
    },
    {
      "cell_type": "code",
      "execution_count": null,
      "metadata": {
        "id": "6DMwCIyaKpmo",
        "outputId": "b6b5b250-2704-4bf1-ce20-e2241c635df3"
      },
      "outputs": [
        {
          "name": "stdout",
          "output_type": "stream",
          "text": [
            "RNG PartitionSpec()\n",
            "\n",
            "Parameters\n",
            "{'input_dense': {'bias': PartitionSpec('data',),\n",
            "                 'kernel': PartitionSpec('data', None)},\n",
            " 'output_dense': {'bias': PartitionSpec(),\n",
            "                  'kernel': PartitionSpec('data', None)}}\n",
            "\n",
            "Optimizer state\n",
            "ScaleByAdamState(count=PartitionSpec(), mu={'input_dense': {'bias': PartitionSpec('data',), 'kernel': PartitionSpec('data', None)}, 'output_dense': {'bias': PartitionSpec(), 'kernel': PartitionSpec('data', None)}}, nu={'input_dense': {'bias': PartitionSpec('data',), 'kernel': PartitionSpec('data', None)}, 'output_dense': {'bias': PartitionSpec(), 'kernel': PartitionSpec('data', None)}})\n"
          ]
        }
      ],
      "source": [
        "print(\"RNG\", state_fsdp_specs.rng)\n",
        "print(\"\\nParameters\")\n",
        "pprint(state_fsdp_specs.params)\n",
        "print(\"\\nOptimizer state\")\n",
        "pprint(state_fsdp_specs.opt_state[0])"
      ]
    },
    {
      "cell_type": "markdown",
      "metadata": {
        "id": "ruVDvORAKpmo"
      },
      "source": [
        "The random number generator is replicated across devices as before. The parameters have now different shardings. The kernels of both dense layers are sharded over the data axis, while the output bias is replicated across all devices due to its small size (only 10 parameters). Further, the optimizer state follows the same sharding as the parameters. The `mu` (first order momentum) and `nu` (second order momentum) are sharded over the data axis like the parameters, while the `step` (step counter) is replicated across all devices. We can now wrap the initialization function with the correct output specification and execute it."
      ]
    },
    {
      "cell_type": "code",
      "execution_count": null,
      "metadata": {
        "id": "mXA6JH3ZKpmo"
      },
      "outputs": [],
      "source": [
        "init_fsdp_fn = jax.jit(\n",
        "    shard_map(\n",
        "        functools.partial(init_dp, model=model_fsdp),\n",
        "        mesh,\n",
        "        in_specs=(P(), P(config.data_axis_name)),\n",
        "        out_specs=state_fsdp_specs,\n",
        "        check_rep=False,\n",
        "    )\n",
        ")\n",
        "state_fsdp = init_fsdp_fn(model_init_rng, batch.inputs)"
      ]
    },
    {
      "cell_type": "markdown",
      "metadata": {
        "id": "k7zs1YP5Kpmo"
      },
      "source": [
        "We print the shapes of the parameters to verify that the sharding was successful and their global shape is as we expected."
      ]
    },
    {
      "cell_type": "code",
      "execution_count": null,
      "metadata": {
        "id": "dz0nFYN4Kpmo",
        "outputId": "8ca7250d-1e6d-4c44-8feb-5836df295775"
      },
      "outputs": [
        {
          "name": "stdout",
          "output_type": "stream",
          "text": [
            "FSDP Parameters\n",
            "{'input_dense': {'bias': Partitioned(value=(512,), names=('data',), mesh=None),\n",
            "                 'kernel': Partitioned(value=(784, 512),\n",
            "                                       names=('data', None),\n",
            "                                       mesh=None)},\n",
            " 'output_dense': {'bias': (10,),\n",
            "                  'kernel': Partitioned(value=(512, 10),\n",
            "                                        names=('data', None),\n",
            "                                        mesh=None)}}\n"
          ]
        }
      ],
      "source": [
        "print(\"FSDP Parameters\")\n",
        "pprint(jax.tree_map(lambda x: x.shape, jax.device_get(state_fsdp.params)))"
      ]
    },
    {
      "cell_type": "markdown",
      "metadata": {
        "id": "zoW5tsLdKpmo"
      },
      "source": [
        "All parameters have the expected global shape, and are sharded on their largest axis if they are larger than the minimum weight size. The `mesh` attribute in `nn.Partitioned` can be set to a different mesh if we do not want to shard over the global mesh, as set by the `shard_map`. In most cases, however, we want to shard over the global mesh, and can leave the `mesh` attribute as `None`. We can now move on to the training loop."
      ]
    },
    {
      "cell_type": "markdown",
      "metadata": {
        "id": "RDZWj6y_Kpmo"
      },
      "source": [
        "### Train Step\n",
        "\n",
        "In the training step, we need to adjust the synchronization of the gradients to take into account the parameter sharding. For a given parameter gradient in our PyTree, we want to average the gradients over a mesh axis if it was not partitioned over it, and leave it otherwise. We implement this strategy in the function below. Note that, in later tutorials, we will be dealing with multiple mesh axes. Hence, the function is written such that it can handle multiple mesh axes, and we can simply pass the mesh axis name over which we want to average the gradients."
      ]
    },
    {
      "cell_type": "code",
      "execution_count": null,
      "metadata": {
        "id": "t7dKcTasKpmo"
      },
      "outputs": [],
      "source": [
        "def sync_gradients(\n",
        "    grads: PyTree,\n",
        "    axis_names: Sequence[str],\n",
        ") -> PyTree:\n",
        "    \"\"\"Synchronize gradients across devices.\n",
        "\n",
        "    Gradients for parameters that are replicated over a given axis are averaged across devices.\n",
        "    Parameters that are partitioned over a given axis are considered to already have a mean of\n",
        "    the gradients on each device, and hence do not need to be altered.\n",
        "\n",
        "    Args:\n",
        "        grads: The gradients to synchronize.\n",
        "        axis_names: The axis names to synchronize gradients across.\n",
        "\n",
        "    Returns:\n",
        "        The gradients averaged over the specified axes if they are replicated.\n",
        "    \"\"\"\n",
        "\n",
        "    def sync_grad(g: Parameter) -> Parameter:\n",
        "        if isinstance(g, nn.Partitioned):\n",
        "            # Tree leaves for flattening potentially nested axis (multiple names can exist for single array axis).\n",
        "            replication_axis_names = [\n",
        "                name for name in axis_names if name not in jax.tree_util.tree_leaves(g.names)\n",
        "            ]\n",
        "            if len(replication_axis_names) == 0:\n",
        "                # Parameters partitioned over all axes.\n",
        "                return g\n",
        "            else:\n",
        "                # Average over remaining replicated axes.\n",
        "                return g.replace(value=jax.lax.pmean(g.value, axis_name=replication_axis_names))\n",
        "        else:\n",
        "            # Parameters are replicated over all axes.\n",
        "            return jax.lax.pmean(g, axis_name=axis_names)\n",
        "\n",
        "    return jax.tree_map(sync_grad, grads, is_leaf=lambda x: isinstance(x, nn.Partitioned))"
      ]
    },
    {
      "cell_type": "markdown",
      "metadata": {
        "id": "Ng0SEkMxKpmo"
      },
      "source": [
        "Besides the gradient averaging, we do not need to adjust anything else of our training step. One potential optimization is to cast the parameters to `bfloat16` before we execute the `apply_fn` in the `loss_fn`. This can reduce the communication overhead, since we only need to communicate half the amount of data. However, this only works if all parameters would need to be in `bfloat16`, and might be more tricky to handle if we have a mix of parameter precisions in our model. Hence, for simplicity, we will not implement this optimization here, and leave the loss function unchanged."
      ]
    },
    {
      "cell_type": "code",
      "execution_count": null,
      "metadata": {
        "id": "4WPNlLE3Kpmo"
      },
      "outputs": [],
      "source": [
        "def train_step_fsdp(\n",
        "    state: TrainState,\n",
        "    metrics: Metrics,\n",
        "    batch: Batch,\n",
        ") -> Tuple[TrainState, Metrics]:\n",
        "    rng, step_rng = jax.random.split(state.rng)\n",
        "    grads, step_metrics = accumulate_gradients(\n",
        "        state,\n",
        "        batch,\n",
        "        step_rng,\n",
        "        config.optimizer.num_minibatches,\n",
        "        loss_fn=loss_fn,\n",
        "    )\n",
        "    # Update parameters. We need to sync the gradients across devices before updating.\n",
        "    with jax.named_scope(\"sync_gradients\"):\n",
        "        grads = sync_gradients(grads, (config.data_axis_name,))\n",
        "    new_state = state.apply_gradients(grads=grads, rng=rng)\n",
        "    # Sum metrics across replicas. Alternatively, we could keep the metrics separate\n",
        "    # and only synchronize them before logging. For simplicity, we sum them here.\n",
        "    with jax.named_scope(\"sync_metrics\"):\n",
        "        step_metrics = jax.tree_map(\n",
        "            lambda x: jax.lax.psum(x, axis_name=config.data_axis_name), step_metrics\n",
        "        )\n",
        "    if metrics is None:\n",
        "        metrics = step_metrics\n",
        "    else:\n",
        "        metrics = jax.tree_map(jnp.add, metrics, step_metrics)\n",
        "    return new_state, metrics"
      ]
    },
    {
      "cell_type": "markdown",
      "metadata": {
        "id": "zqE0E1jkKpmo"
      },
      "source": [
        "We can now wrap the train step with `shard_map` and jit it. We reuse our sharding specification of the train state, which we determined during the initialization, and specify the mesh and the sharding specifications for the metrics and batch as before."
      ]
    },
    {
      "cell_type": "code",
      "execution_count": null,
      "metadata": {
        "id": "N6pp2UJOKpmo"
      },
      "outputs": [],
      "source": [
        "train_step_fsdp_fn = jax.jit(\n",
        "    shard_map(\n",
        "        train_step_fsdp,\n",
        "        mesh,\n",
        "        in_specs=(state_fsdp_specs, P(), P(config.data_axis_name)),\n",
        "        out_specs=(state_fsdp_specs, P()),\n",
        "        check_rep=False,\n",
        "    ),\n",
        "    donate_argnames=(\"state\", \"metrics\"),\n",
        ")\n",
        "_, metric_shapes = jax.eval_shape(\n",
        "    train_step_fsdp_fn,\n",
        "    state_fsdp,\n",
        "    None,\n",
        "    batch,\n",
        ")\n",
        "metrics_fsdp = jax.tree_map(lambda x: jnp.zeros(x.shape, dtype=x.dtype), metric_shapes)"
      ]
    },
    {
      "cell_type": "markdown",
      "metadata": {
        "id": "rcj6ZVb7Kpmp"
      },
      "source": [
        "Let's run it again for a few steps and check the resulting metrics:"
      ]
    },
    {
      "cell_type": "code",
      "execution_count": null,
      "metadata": {
        "id": "VcdK11QxKpmp",
        "outputId": "803bb841-08cd-4c4c-956d-162283a292e4"
      },
      "outputs": [
        {
          "name": "stderr",
          "output_type": "stream",
          "text": [
            "/home/plippe/anaconda3/envs/jax/lib/python3.10/site-packages/jax/_src/interpreters/mlir.py:761: UserWarning: Some donated buffers were not usable: ShapedArray(float32[64]), ShapedArray(float32[98,512]), ShapedArray(float32[64,10]), ShapedArray(float32[64]), ShapedArray(float32[98,512]), ShapedArray(float32[64,10]), ShapedArray(float32[64]), ShapedArray(float32[98,512]), ShapedArray(float32[64,10]).\n",
            "See an explanation at https://jax.readthedocs.io/en/latest/faq.html#buffer-donation.\n",
            "  warnings.warn(\"Some donated buffers were not usable:\"\n"
          ]
        },
        {
          "name": "stdout",
          "output_type": "stream",
          "text": [
            " FSDP - Final metrics \n",
            "accuracy: 1.000000\n",
            "loss: 0.003343\n"
          ]
        }
      ],
      "source": [
        "for _ in range(15):\n",
        "    state_fsdp, metrics_fsdp = train_step_fsdp_fn(state_fsdp, metrics_fsdp, batch)\n",
        "final_metrics_fsdp = jax.tree_map(lambda x: jnp.zeros(x.shape, dtype=x.dtype), metric_shapes)\n",
        "state_fsdp, final_metrics_fsdp = train_step_fsdp_fn(state_fsdp, final_metrics_fsdp, batch)\n",
        "print_metrics(final_metrics_fsdp, \"FSDP - Final metrics\")"
      ]
    },
    {
      "cell_type": "markdown",
      "metadata": {
        "id": "L2LD6RXtKpmp"
      },
      "source": [
        "The model is training as expected and is able to overfit on the single batch of data."
      ]
    },
    {
      "cell_type": "markdown",
      "metadata": {
        "id": "4vNwzv5jKpmp"
      },
      "source": [
        "### Verify that FSDP gives same results as DP\n",
        "\n",
        "Since the different parallelism strategies should result in the same model, we can verify that the FSDP model gives the same results as the data parallel model without sharding. Further, the initialization of the both models behave in the exact same way, such that in our example training runs above, they should have resulted in the same outputs. We can verify this by comparing the metrics of the FSDP and DP model below:"
      ]
    },
    {
      "cell_type": "code",
      "execution_count": null,
      "metadata": {
        "id": "YN8nCS59Kpmp",
        "outputId": "1feeff6c-3869-4776-8de4-109b4bdde946"
      },
      "outputs": [
        {
          "name": "stdout",
          "output_type": "stream",
          "text": [
            "Metrics DP Avg accuracy: 0.8844\n",
            "Metrics FSDP Avg accuracy: 0.8844\n",
            "Metrics DP Avg loss: 0.5102\n",
            "Metrics FSDP Avg loss: 0.5102\n"
          ]
        }
      ],
      "source": [
        "metrics_dp = jax.device_get(metrics_dp)\n",
        "metrics_fsdp = jax.device_get(metrics_fsdp)\n",
        "for key in metrics_dp.keys():\n",
        "    val_dp = metrics_dp[key][0] / metrics_dp[key][1]\n",
        "    val_fsdp = metrics_fsdp[key][0] / metrics_fsdp[key][1]\n",
        "    print(f\"Metrics DP Avg {key}: {val_dp:.4f}\")\n",
        "    print(f\"Metrics FSDP Avg {key}: {val_fsdp:.4f}\")\n",
        "    np.testing.assert_allclose(val_dp, val_fsdp, atol=1e-2)"
      ]
    },
    {
      "cell_type": "markdown",
      "metadata": {
        "id": "bpHuoxHEKpmp"
      },
      "source": [
        "Both models have resulted in the same metrics, suggesting that the FSDP model is training as expected. We can also compare parameters and optimizer state to verify that they are the same."
      ]
    },
    {
      "cell_type": "code",
      "execution_count": null,
      "metadata": {
        "id": "FR1-k86xKpmp",
        "outputId": "abbf2375-3a0a-4191-934e-548a4876eaec"
      },
      "outputs": [
        {
          "name": "stdout",
          "output_type": "stream",
          "text": [
            "Parameters match between DP and FSDP\n"
          ]
        }
      ],
      "source": [
        "params_dp = jax.device_get({\"params\": state_dp.params, \"opt_state\": state_dp.opt_state})\n",
        "params_fsdp = jax.device_get({\"params\": state_fsdp.params, \"opt_state\": state_fsdp.opt_state})\n",
        "params_fsdp = jax.tree_map(\n",
        "    lambda x: x.value if isinstance(x, nn.Partitioned) else x,\n",
        "    params_fsdp,\n",
        "    is_leaf=lambda x: isinstance(x, nn.Partitioned),\n",
        ")\n",
        "_ = jax.tree_map(lambda x, y: np.testing.assert_allclose(x, y, atol=1e-4), params_dp, params_fsdp)\n",
        "print(\"Parameters match between DP and FSDP\")"
      ]
    },
    {
      "cell_type": "markdown",
      "metadata": {
        "id": "SPV9z8SKKpmp"
      },
      "source": [
        "We find that both methods result in the same output, verifying that we have implemented FSDP correctly. Note that very small differences can still occur due to different reductions in the gradient sync. However, these differences should be negligible and not affect the training of the model."
      ]
    },
    {
      "cell_type": "markdown",
      "metadata": {
        "id": "BHMBzm7SKpmp"
      },
      "source": [
        "## Conclusion\n",
        "\n",
        "In this tutorial, we have introduced the basic building blocks of distributed computing in JAX, and implemented data parallelism and fully-sharded data parallelism. In data parallelism, we shard the input batch over the data axis, and the model parameters are replicated across all devices. This allows for a larger batch size and faster training. For large models, we further improved the memory footprint by sharding the model parameters across devices. In this fully-sharded data parallelism (FSDP), we have seen how to shard the model parameters, and how to gather and scatter the parameters and gradients in the forward and backward pass. Data parallelism is one of the most common parallelism strategies in deep learning, and FSDP is a powerful tool to scale to very large models. Still, we may come to situations where the model size is limited by the memory of a single device, and we need expensive remat strategies to overcome this. Alternatively, we can look at other parallelism strategies which shard the model execution itself over devices. These strategies, also called model parallelism, will be the focus in the next tutorials, specifically pipeline parallelism and tensor parallelism. With these, we can scale to even larger models and train billion-parameter models efficiently."
      ]
    },
    {
      "cell_type": "markdown",
      "metadata": {
        "id": "ynIuNx18Kpmp"
      },
      "source": [
        "## References and Resources\n",
        "\n",
        "\\[Rajbhandari et al., 2020\\] Rajbhandari, S., Rasley, J., Ruwase, O. and He, Y., 2020. Zero: Memory optimizations toward training trillion parameter models. In SC20: International Conference for High Performance Computing, Networking, Storage and Analysis (pp. 1-16). [Paper link](https://arxiv.org/abs/1910.02054)\n",
        "\n",
        "\\[Wang and Komatsuzaki, 2021\\] Wang, B., and Komatsuzaki, A., 2021. Mesh transformer jax. [GitHub link](https://github.com/kingoflolz/mesh-transformer-jax)\n",
        "\n",
        "\\[Beyer et al., 2022\\] Beyer, L., Zhai, X., and Kolesnikov, A., 2022. Big Vision. [GitHub link](https://github.com/google-research/big_vision/tree/main/)\n",
        "\n",
        "\\[Google, 2024\\] JAX Team Google, 2024. Distributed arrays and automatic parallelization. [Notebook link](https://jax.readthedocs.io/en/latest/notebooks/Distributed_arrays_and_automatic_parallelization.html)\n",
        "\n",
        "\\[Google, 2024\\] JAX Team Google, 2024. SPMD multi-device parallelism with shard_map. [Notebook link](https://jax.readthedocs.io/en/latest/notebooks/shard_map.html)\n",
        "\n",
        "\\[Google, 2024\\] JAX Team Google, 2024. Using JAX in multi-host and multi-process environments. [Notebook link](https://jax.readthedocs.io/en/latest/multi_process.html)\n",
        "\n",
        "\\[DeepSpeed, 2024\\] DeepSpeed, 2024. Zero Redundancy Optimizer. [Tutorial link](https://www.deepspeed.ai/tutorials/zero/)"
      ]
    },
    {
      "cell_type": "markdown",
      "metadata": {
        "id": "PBU5tRIfKpmp"
      },
      "source": [
        "---\n",
        "\n",
        "[![Star our repository](https://img.shields.io/static/v1.svg?logo=star&label=⭐&message=Star%20Our%20Repository&color=yellow)](https://github.com/phlippe/uvadlc_notebooks/)  If you found this tutorial helpful, consider ⭐-ing our repository.    \n",
        "[![Ask questions](https://img.shields.io/static/v1.svg?logo=star&label=❔&message=Ask%20Questions&color=9cf)](https://github.com/phlippe/uvadlc_notebooks/issues)  For any questions, typos, or bugs that you found, please raise an issue on GitHub.\n",
        "\n",
        "---"
      ]
    }
  ],
  "metadata": {
    "kernelspec": {
      "display_name": "jax_new",
      "language": "python",
      "name": "python3"
    },
    "language_info": {
      "codemirror_mode": {
        "name": "ipython",
        "version": 3
      },
      "file_extension": ".py",
      "mimetype": "text/x-python",
      "name": "python",
      "nbconvert_exporter": "python",
      "pygments_lexer": "ipython3",
      "version": "3.10.12"
    },
    "vscode": {
      "interpreter": {
        "hash": "c33e04bee723a695c1f11263e2553ef63671975140823e2daf94a160823ca89a"
      }
    },
    "colab": {
      "provenance": []
    }
  },
  "nbformat": 4,
  "nbformat_minor": 0
}